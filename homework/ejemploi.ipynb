{
 "cells": [
  {
   "cell_type": "code",
   "execution_count": 1,
   "id": "810d5289",
   "metadata": {},
   "outputs": [],
   "source": [
    "import pandas as pd\n",
    "import re"
   ]
  },
  {
   "cell_type": "code",
   "execution_count": 2,
   "id": "4675222e",
   "metadata": {},
   "outputs": [],
   "source": [
    "with open(\"../files/input/clusters_report.txt\", \"r\", encoding=\"utf-8\") as f:\n",
    "    lines = f.readlines()"
   ]
  },
  {
   "cell_type": "code",
   "execution_count": 3,
   "id": "26f02c15",
   "metadata": {},
   "outputs": [
    {
     "name": "stdout",
     "output_type": "stream",
     "text": [
      "['Cluster  Cantidad de     Porcentaje de   Principales palabras clave     \\n', '         palabras clave  palabras clave\\n', '         \\n', '---------------------------------------------------------------------------------------------------------------------\\n', '   1     105             15,9 %          maximum power point tracking, fuzzy-logic based control, photo voltaic (pv), \\n', '                                         photo-voltaic  system,  differential   evolution   algorithm,   evolutionary\\n', '                                         algorithm, double-fed induction generator (dfig), ant  colony  optimisation, \\n', '                                         photo voltaic array, firefly algorithm, partial shade.\\n', '\\n', '   2     102             15,4 %          support vector machine,  long  short-term  memory,  back-propagation  neural\\n', '                                         network,  convolution  neural  network,  speed   wind   prediction,   energy\\n', '                                         consumption,   wind   power   forecasting,   extreme    learning    machine,\\n', '                                         recurrent-neural-network (rnn), radial basis function (rbf)  networks,  wind \\n', '                                         farm.\\n', '\\n', '   3     89              13,4 %          smart grid, wind power, reinforcement learning,  energy  management,  energy \\n', '                                         efficiency, solar energy, deep reinforcement learning, demand-response (dr),\\n', '                                         internet of things, energy harvester, q-learning.\\n', '\\n', '   4     60              9,1 %           wind   turbine,   fault    diagnosis,    biodiesel,    failure    detection,\\n', '                                         response-surface methodology, condition monitoring, load forecasting, energy\\n', '                                         consumption forecast,  anomalies  detection,  optimization-based  algorithm, \\n', '                                         supervisory control and data acquisition.\\n', '\\n', '   5     52              7,9 %           electric vehicle, lithium-ion batteries, state of charge, state  of  health,\\n', '                                         hybrid-electric vehicle, energy  management  strategies,  energy  management \\n', '                                         system, remaining useful life, battery management system, transfer learning, \\n', '                                         hybrid energy storage.\\n', '\\n', '   6     51              7,7 %           particle  swarm  optimization,  distribute  generation,  solar   irradiance,\\n', '                                         artificial  bee   colonies,   energy   storage   systems,   bat   algorithm,\\n', '                                         gravitational search algorithm, distributed  system,  multi-objective  swarm\\n', '                                         optimization  (mopso),  optimal  power-flow  (opf),  load-frequency  control\\n', '\\n', '   7     42              6,3 %           multi-objective   optimization,   energy   storage,    economic    dispatch,\\n', '                                         non-dominated  sorting  genetic  algorithm,   sensitive   analysis,   hybrid\\n', '                                         renewable energy source, plug-in electric vehicle, combined-heat and  power,\\n', '                                         multi-objective genetic algorithm, unit-commitment, dc-dc converters.\\n', '\\n', '   8     38              5,7 %           genetic algorithm, demand-side  management,  energy-saving,  hybrid  electric \\n', '                                         system (hes), wind turbine blade, data-driven modelling, simulated annealing, \\n', '                                         solar forecasting, geographic information system,  renewable  energy  system,\\n', '                                         cogeneration.\\n', '                                         \\n', '   9     35              5,3 %           anfis,   global   solar   irradiance,  solar  irradiance  forecast,   genetic\\n', '                                         programing,   islanding   detection,   expert  system,  distributed networks, \\n', '                                         evolutionary computation,  wavelet-based  neural  network,   root mean square \\n', '                                         errors, virtual power plant.\\n', '\\n', '   10    27              4,1 %           micro grid,  multi-agent  systems,  distributed  energy  resource,  batteries \\n', '                                         energy storage system, dc micro grid, pitch-control,  droop  control,  hybrid \\n', '                                         ac/dc microgrid, voltage regulation, superconducting magnetic energy storage, \\n', '                                         distributed-control.\\n', '\\n', '   11    22              3,3 %           hydrogen,  biochar,  biomass,  biogas,  microbial  fuel  cell,  gasification, \\n', '                                         biofuel, ethanol, engine performance, pyrolysis, anaerobic digester.\\n', '\\n', '   12    22              3,3 %           state of charge (soc) estimation,  radial  basis  function,  short-term  load\\n', '                                         forecasting,  computational  fluid  dynamics,  generalized-regression  neural\\n', '                                         network,  monte-carlo   simulation,   multiple   linear   regression,   power\\n', '                                         generation,   nonlinear   auto-regressive   exogenous   (narx)  model  neural\\n', '                                         networks, surrogate model, extreme gradient boosting.\\n', '\\n', '   13    17              2,6 %           pem   fuel   cell,   solid-oxide  fuel  cell,  deep-belief  networks,  energy\\n', '                                         optimisation, particles-size  distributions,  biomass  gasification,  exergy, \\n', '                                         battery    management,    hydrogen     production,     numeric    simulation, \\n', '                                         system-identification.\\n', '\\n']\n"
     ]
    }
   ],
   "source": [
    "print(lines)\n",
    "# lines"
   ]
  },
  {
   "cell_type": "code",
   "execution_count": 4,
   "id": "2248087e",
   "metadata": {},
   "outputs": [
    {
     "data": {
      "text/plain": [
       "['cluster',\n",
       " 'cantidad_de_palabras_clave',\n",
       " 'porcentaje_de_palabras_clave',\n",
       " 'principales_palabras_clave']"
      ]
     },
     "execution_count": 4,
     "metadata": {},
     "output_type": "execute_result"
    }
   ],
   "source": [
    "columns = [\"cluster\", \"cantidad_de_palabras_clave\", \"porcentaje_de_palabras_clave\", \"principales_palabras_clave\"]\n",
    "columns"
   ]
  },
  {
   "cell_type": "code",
   "execution_count": 5,
   "id": "b242de84",
   "metadata": {},
   "outputs": [],
   "source": [
    "import re\n",
    "\n",
    "clusters_raw = []  # lista donde guardaremos cada cluster completo\n",
    "current_cluster = \"\"  # texto acumulado\n",
    "\n",
    "for line in lines[4:]:\n",
    "    # Si la línea comienza con un número → nuevo cluster\n",
    "    if re.match(r'^\\s*\\d+', line):\n",
    "        # Guardar el cluster anterior si ya teníamos uno\n",
    "        if current_cluster != \"\":\n",
    "            clusters_raw.append(current_cluster.strip())\n",
    "        # Empezar nuevo cluster\n",
    "        current_cluster = line.strip()\n",
    "    else:\n",
    "        # Continuación del texto anterior → agregarlo\n",
    "        current_cluster += \" \" + line.strip()\n",
    "\n",
    "# Agregar el último cluster\n",
    "if current_cluster:\n",
    "    clusters_raw.append(current_cluster.strip())\n"
   ]
  },
  {
   "cell_type": "code",
   "execution_count": 6,
   "id": "35955a2f",
   "metadata": {},
   "outputs": [],
   "source": [
    "# clusters_raw"
   ]
  },
  {
   "cell_type": "code",
   "execution_count": 7,
   "id": "f3a5f149",
   "metadata": {},
   "outputs": [],
   "source": [
    "filas = [fila.split('\\t') for fila in clusters_raw]\n",
    "# filas"
   ]
  },
  {
   "cell_type": "code",
   "execution_count": 8,
   "id": "b2df04f5",
   "metadata": {},
   "outputs": [],
   "source": [
    "import re\n",
    "\n",
    "# Lista donde guardaremos las filas ya separadas\n",
    "filas_limpias = []\n",
    "\n",
    "# Expresión regular, cada () representa una columna\n",
    "# \\S+ : uno o más caracteres que no son espacios\n",
    "# \\s+ : uno o más espacios\n",
    "\n",
    "patron = r'^(\\S+)\\s+(\\S+)\\s+(\\S+\\s*%)\\s+(.+)$'\n",
    "\n",
    "for fila in clusters_raw:\n",
    "    match = re.match(patron, fila)\n",
    "    if match:\n",
    "        # Extrae los 4 grupos (columnas)\n",
    "        columnas_match = list(match.groups())\n",
    "        filas_limpias.append(columnas_match)\n",
    "    \n",
    "    else:\n",
    "        print(\"No fue posible match para la fila:\", fila)\n",
    "\n",
    "# filas_limpias"
   ]
  },
  {
   "cell_type": "code",
   "execution_count": 9,
   "id": "e9493a9a",
   "metadata": {},
   "outputs": [],
   "source": [
    "df = pd.DataFrame(filas_limpias, columns=columns)\n",
    "# df"
   ]
  },
  {
   "cell_type": "code",
   "execution_count": 10,
   "id": "8aabe0a7",
   "metadata": {},
   "outputs": [],
   "source": [
    "df.porcentaje_de_palabras_clave = df.porcentaje_de_palabras_clave.str.replace('%', '')\n",
    "df.porcentaje_de_palabras_clave = df.porcentaje_de_palabras_clave.str.replace(',', '.')\n",
    "df.porcentaje_de_palabras_clave = df.porcentaje_de_palabras_clave.astype(float)\n",
    "df.cantidad_de_palabras_clave = df.cantidad_de_palabras_clave.astype(int)\n",
    "# df"
   ]
  },
  {
   "cell_type": "code",
   "execution_count": 11,
   "id": "6768c9b2",
   "metadata": {},
   "outputs": [
    {
     "data": {
      "text/plain": [
       "dtype('int64')"
      ]
     },
     "execution_count": 11,
     "metadata": {},
     "output_type": "execute_result"
    }
   ],
   "source": [
    "df.cantidad_de_palabras_clave.dtype"
   ]
  },
  {
   "cell_type": "code",
   "execution_count": null,
   "id": "0b19580e",
   "metadata": {},
   "outputs": [],
   "source": [
    "df.principales_palabras_clave = (\n",
    "    df.principales_palabras_clave\n",
    "    .apply(lambda x: re.sub(r\"\\s+\", \" \", x.strip()))     # normaliza espacios\n",
    "    .apply(lambda x: re.sub(r\"\\s*,\\s*\", \", \", x))        # coma + espacio\n",
    ")\n",
    "df.principales_palabras_clave = (df.principales_palabras_clave.str.replace(r\"\\s+\", ' ')\n",
    "                                   .str.replace(', ', ',')\n",
    "                                   .str.replace(',', ', ')\n",
    "                                   .str.strip()\n",
    "                                   .str.replace('.', '')\n",
    ")                              "
   ]
  },
  {
   "cell_type": "code",
   "execution_count": 13,
   "id": "89c380bf",
   "metadata": {},
   "outputs": [],
   "source": [
    "# df.principales_palabras_clave = df.principales_palabras_clave.str.replace('.', '')\n",
    "# df.principales_palabras_clave = df.principales_palabras_clave.str.replace('  ', ' ')\n",
    "# df.principales_palabras_clave = df.principales_palabras_clave.str.replace('   ', ' ')\n",
    "# df.principales_palabras_clave = df.principales_palabras_clave.str.replace('    ', ' ')\n",
    "# df.principales_palabras_clave = df.principales_palabras_clave.str.replace('     ', ' ')\n",
    "# df.principales_palabras_clave = df.principales_palabras_clave.str.replace('      ', ' ')\n",
    "# df.principales_palabras_clave = df.principales_palabras_clave.str.replace('       ', ' ')\n",
    "# df.principales_palabras_clave = df.principales_palabras_clave.str.strip(\"'\\\"\")\n",
    "# df"
   ]
  },
  {
   "cell_type": "code",
   "execution_count": 17,
   "id": "520afb8a",
   "metadata": {},
   "outputs": [
    {
     "data": {
      "text/plain": [
       "'maximum power point tracking, fuzzy-logic based control, photo voltaic (pv), photo-voltaic system, differential evolution algorithm, evolutionary algorithm, double-fed induction generator (dfig), ant colony optimisation, photo voltaic array, firefly algorithm, partial shade'"
      ]
     },
     "execution_count": 17,
     "metadata": {},
     "output_type": "execute_result"
    }
   ],
   "source": [
    "df.principales_palabras_clave[0]"
   ]
  },
  {
   "cell_type": "code",
   "execution_count": 18,
   "id": "4e598d47",
   "metadata": {},
   "outputs": [
    {
     "data": {
      "text/plain": [
       "'maximum power point tracking, fuzzy-logic based control, photo voltaic (pv), photo-voltaic system, differential evolution algorithm, evolutionary algorithm, double-fed induction generator (dfig), ant colony optimisation, photo voltaic array, firefly algorithm, partial shade'"
      ]
     },
     "execution_count": 18,
     "metadata": {},
     "output_type": "execute_result"
    }
   ],
   "source": [
    "# print(type(df.principales_palabras_clave[0]))\n",
    "\n",
    "\n",
    "df.principales_palabras_clave.to_list()[0]"
   ]
  }
 ],
 "metadata": {
  "kernelspec": {
   "display_name": ".venv (3.13.2)",
   "language": "python",
   "name": "python3"
  },
  "language_info": {
   "codemirror_mode": {
    "name": "ipython",
    "version": 3
   },
   "file_extension": ".py",
   "mimetype": "text/x-python",
   "name": "python",
   "nbconvert_exporter": "python",
   "pygments_lexer": "ipython3",
   "version": "3.13.2"
  }
 },
 "nbformat": 4,
 "nbformat_minor": 5
}
